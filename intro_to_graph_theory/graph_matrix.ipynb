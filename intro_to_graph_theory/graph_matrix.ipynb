{
 "cells": [
  {
   "cell_type": "markdown",
   "id": "eed84008-da4d-487a-a571-45a38726b014",
   "metadata": {},
   "source": [
    "# Graph Matrix"
   ]
  },
  {
   "cell_type": "markdown",
   "id": "6bc3433e-603c-428c-bef4-d3a1becb4096",
   "metadata": {},
   "source": [
    "This notebook demonstrates different matrix representations for an undirected graph $G$"
   ]
  },
  {
   "cell_type": "markdown",
   "id": "950a9c6b-424b-4bbe-bf33-4ae8d81a5574",
   "metadata": {},
   "source": [
    "## Packages"
   ]
  },
  {
   "cell_type": "code",
   "execution_count": 1,
   "id": "f1b2b5a2-4825-4847-b57a-603be69f05db",
   "metadata": {},
   "outputs": [],
   "source": [
    "import numpy as np\n",
    "import random\n",
    "import matplotlib.pyplot as plt\n",
    "import networkx as nx"
   ]
  },
  {
   "cell_type": "markdown",
   "id": "3245b0ac-d21a-4c2a-ba3e-09e36245c0ec",
   "metadata": {},
   "source": [
    "## User parameters"
   ]
  },
  {
   "cell_type": "code",
   "execution_count": 2,
   "id": "31907d42-f75b-4110-ad58-4c83accee45b",
   "metadata": {},
   "outputs": [],
   "source": [
    "NUM_NODES = 8\n",
    "PROBABILITY = 0.3 # Probability for edge creation"
   ]
  },
  {
   "cell_type": "markdown",
   "id": "9c18c87d-6568-4278-83ae-dc2fb5c0cc98",
   "metadata": {},
   "source": [
    "## Generate a graph"
   ]
  },
  {
   "cell_type": "code",
   "execution_count": 3,
   "id": "41136042-44e7-4bf0-b15a-df6a4466f84a",
   "metadata": {},
   "outputs": [
    {
     "data": {
      "image/png": "[encoded data removed]",
      "text/plain": [
       "<Figure size 360x360 with 1 Axes>"
      ]
     },
     "metadata": {},
     "output_type": "display_data"
    }
   ],
   "source": [
    "np.random.seed(5)\n",
    "G = nx.generators.erdos_renyi_graph(NUM_NODES, PROBABILITY, seed=np.random)\n",
    "\n",
    "fig, ax = plt.subplots(figsize=(5, 5))\n",
    "plt.title('Graph')\n",
    "nx.draw(G, node_color='lightgreen', with_labels = True,ax=ax)\n",
    "\n",
    "ax.set_axis_on()\n",
    "ax.tick_params(left=True, bottom=True, labelleft=True, labelbottom=True)\n",
    "plt.show()"
   ]
  },
  {
   "cell_type": "markdown",
   "id": "65618930-674b-4462-a3c1-32382b77e5e8",
   "metadata": {},
   "source": [
    "## Graph Matrices\n",
    "\n",
    "Matrices are used to describe graphs and operations.\n",
    "- Adjacency matrix\n",
    "- Degree matrix\n",
    "- Laplacian matrix\n",
    "- Incidence matrix"
   ]
  },
  {
   "cell_type": "markdown",
   "id": "d3f495f2-e27c-4ef3-910f-741a613f5a00",
   "metadata": {},
   "source": [
    "#### Adjacency matrix"
   ]
  },
  {
   "cell_type": "markdown",
   "id": "87cf1f95-5484-409d-b8e4-c4ba9d483716",
   "metadata": {},
   "source": [
    "The adjacency matrix $A$ of a graph $G$ with $n$ nodes is a matrix $(v_{ij}) \\in \\mathbb{R}^{n \\times n}$ where :\n",
    "- $(v_{i}, v_{j}) = 0$ when the vertex $v_{i}$ and $v_{j}$ are adjacent\n",
    "- $(v_{i}, v_{j}) =1$ when the vertex $v_{i}$ and $v_{j}$ are not adjacent"
   ]
  },
  {
   "cell_type": "code",
   "execution_count": 4,
   "id": "16a6db03-8e6f-49f5-a64a-7923809c6585",
   "metadata": {},
   "outputs": [
    {
     "name": "stdout",
     "output_type": "stream",
     "text": [
      "[[0. 1. 0. 1. 0. 0. 0. 0.]\n",
      " [1. 0. 0. 1. 1. 1. 0. 0.]\n",
      " [0. 0. 0. 1. 0. 1. 0. 1.]\n",
      " [1. 1. 1. 0. 0. 0. 0. 1.]\n",
      " [0. 1. 0. 0. 0. 1. 1. 0.]\n",
      " [0. 1. 1. 0. 1. 0. 1. 1.]\n",
      " [0. 0. 0. 0. 1. 1. 0. 0.]\n",
      " [0. 0. 1. 1. 0. 1. 0. 0.]]\n"
     ]
    }
   ],
   "source": [
    "A = nx.linalg.graphmatrix.adjacency_matrix(G).todense()\n",
    "print(A)"
   ]
  },
  {
   "cell_type": "markdown",
   "id": "d1016251-caa5-4047-867a-699fdb5d208d",
   "metadata": {},
   "source": [
    "#### Degree matrix"
   ]
  },
  {
   "cell_type": "markdown",
   "id": "2991b73a-cadc-4c75-9207-1cc1e96e461c",
   "metadata": {},
   "source": [
    "The degree matrix $D$ of a graph $G$ with $n$ nodes is a diagonal matrix where each entries is the degree of each vertex (the number of edges attached to each vertex)."
   ]
  },
  {
   "cell_type": "code",
   "execution_count": 5,
   "id": "d00bf38c-de4b-444e-a252-199748dcd335",
   "metadata": {},
   "outputs": [
    {
     "name": "stdout",
     "output_type": "stream",
     "text": [
      "[[2 0 0 0 0 0 0 0]\n",
      " [0 4 0 0 0 0 0 0]\n",
      " [0 0 3 0 0 0 0 0]\n",
      " [0 0 0 4 0 0 0 0]\n",
      " [0 0 0 0 3 0 0 0]\n",
      " [0 0 0 0 0 5 0 0]\n",
      " [0 0 0 0 0 0 2 0]\n",
      " [0 0 0 0 0 0 0 3]]\n"
     ]
    }
   ],
   "source": [
    "degree_per_vertex = [v for deg, v in G.degree()]\n",
    "D = np.diagflat(degree_per_vertex)\n",
    "print(D)"
   ]
  },
  {
   "cell_type": "markdown",
   "id": "e6d88672-7211-4406-a16f-3f58ff463d7e",
   "metadata": {},
   "source": [
    "#### Laplacian matrix"
   ]
  },
  {
   "cell_type": "markdown",
   "id": "fa025abe-bb72-49ce-9ccc-56f92fd0db98",
   "metadata": {},
   "source": [
    "The laplacian matrix $L$ is the defined as $L=D-A$"
   ]
  },
  {
   "cell_type": "code",
   "execution_count": 6,
   "id": "aac2ad66-5a77-4439-b943-f3401f99747d",
   "metadata": {},
   "outputs": [
    {
     "name": "stdout",
     "output_type": "stream",
     "text": [
      "[[ 2. -1.  0. -1.  0.  0.  0.  0.]\n",
      " [-1.  4.  0. -1. -1. -1.  0.  0.]\n",
      " [ 0.  0.  3. -1.  0. -1.  0. -1.]\n",
      " [-1. -1. -1.  4.  0.  0.  0. -1.]\n",
      " [ 0. -1.  0.  0.  3. -1. -1.  0.]\n",
      " [ 0. -1. -1.  0. -1.  5. -1. -1.]\n",
      " [ 0.  0.  0.  0. -1. -1.  2.  0.]\n",
      " [ 0.  0. -1. -1.  0. -1.  0.  3.]]\n"
     ]
    }
   ],
   "source": [
    "L = nx.linalg.laplacianmatrix.laplacian_matrix(G).todense()\n",
    "L = D - A\n",
    "print(L)"
   ]
  },
  {
   "cell_type": "markdown",
   "id": "96018ebe-18b0-415b-b04f-992d4ebdaa1c",
   "metadata": {},
   "source": [
    "#### Incidence matrix"
   ]
  },
  {
   "cell_type": "code",
   "execution_count": 7,
   "id": "cb9962eb-1a13-45e6-98df-e9a6975c7117",
   "metadata": {},
   "outputs": [
    {
     "name": "stdout",
     "output_type": "stream",
     "text": [
      "[[1. 1. 0. 0. 0. 0. 0. 0. 0. 0. 0. 0. 0.]\n",
      " [1. 0. 1. 1. 1. 0. 0. 0. 0. 0. 0. 0. 0.]\n",
      " [0. 0. 0. 0. 0. 1. 1. 1. 0. 0. 0. 0. 0.]\n",
      " [0. 1. 1. 0. 0. 1. 0. 0. 1. 0. 0. 0. 0.]\n",
      " [0. 0. 0. 1. 0. 0. 0. 0. 0. 1. 1. 0. 0.]\n",
      " [0. 0. 0. 0. 1. 0. 1. 0. 0. 1. 0. 1. 1.]\n",
      " [0. 0. 0. 0. 0. 0. 0. 0. 0. 0. 1. 1. 0.]\n",
      " [0. 0. 0. 0. 0. 0. 0. 1. 1. 0. 0. 0. 1.]]\n"
     ]
    }
   ],
   "source": [
    "incidence_matrix = nx.linalg.graphmatrix.incidence_matrix(G).todense()\n",
    "print(incidence_matrix)"
   ]
  },
  {
   "cell_type": "markdown",
   "id": "ac960dc3-3151-4da5-be54-11e8711c00da",
   "metadata": {},
   "source": [
    "## Property"
   ]
  },
  {
   "cell_type": "markdown",
   "id": "cd91d175-1b05-4299-8e8f-c7cb3b9b1587",
   "metadata": {},
   "source": [
    "#### Powers of adjacency matrix"
   ]
  },
  {
   "cell_type": "markdown",
   "id": "358ed44c-a4c2-4ece-a93b-4fb01af4d3a1",
   "metadata": {},
   "source": [
    "The entry (i, j) of the adjacency matrix to the power of $s$ ($A^{s}$) gives the number of walks from $i$ to $j$ of length $s$."
   ]
  },
  {
   "cell_type": "code",
   "execution_count": 8,
   "id": "6c21d199-d7ee-4826-81ee-c23bae52e43e",
   "metadata": {},
   "outputs": [
    {
     "name": "stdout",
     "output_type": "stream",
     "text": [
      "[[ 2.  5.  3.  5.  2.  4.  2.  3.]\n",
      " [ 5.  4.  4.  9.  7. 11.  2.  4.]\n",
      " [ 3.  4.  4.  8.  4.  9.  2.  5.]\n",
      " [ 5.  9.  8.  4.  4.  4.  4.  8.]\n",
      " [ 2.  7.  4.  4.  4.  7.  5.  4.]\n",
      " [ 4. 11.  9.  4.  7.  6.  7.  9.]\n",
      " [ 2.  2.  2.  4.  5.  7.  2.  2.]\n",
      " [ 3.  4.  5.  8.  4.  9.  2.  4.]]\n",
      "there are 4.0 possible walks between vertex1 and vertex1\n",
      "there are 11.0 possible walks between vertex5 and vertex1\n",
      "there are 9.0 possible walks between vertex7 and vertex5\n",
      "there are 8.0 possible walks between vertex7 and vertex3\n"
     ]
    }
   ],
   "source": [
    "s = 3\n",
    "A_power = np.linalg.matrix_power(A, s)\n",
    "pair_to_test = [(1,1),(5,1),(7,5),(7,3)]\n",
    "print(A_power)\n",
    "\n",
    "for p in pair_to_test:\n",
    "    print('there are {} possible walks between vertex{} and vertex{}'.format(A_power[p[0],p[1]], p[0], p[1]))"
   ]
  },
  {
   "cell_type": "markdown",
   "id": "4b82b094-f067-48ba-90db-23b38a69ef1b",
   "metadata": {},
   "source": [
    "### References"
   ]
  },
  {
   "cell_type": "markdown",
   "id": "47fe0fe5-0072-4f1a-8dec-b8b2b9ac15fc",
   "metadata": {},
   "source": [
    "[1] Van Mieghem, Piet. \"Graph eigenvectors, fundamental weights and centrality metrics for nodes in networks.\" arXiv preprint arXiv:1401.4580 (2014).\n",
    "[2] Page, Lawrence, Sergey Brin, Rajeev Motwani, and Terry Winograd. The PageRank citation ranking: Bringing order to the web. Stanford InfoLab, 1999.\n",
    "[3] Online Class https://www.youtube.com/watch?v=R30qNytFJUg"
   ]
  }
 ],
 "metadata": {
  "kernelspec": {
   "display_name": "Python 3",
   "language": "python",
   "name": "python3"
  },
  "language_info": {
   "codemirror_mode": {
    "name": "ipython",
    "version": 3
   },
   "file_extension": ".py",
   "mimetype": "text/x-python",
   "name": "python",
   "nbconvert_exporter": "python",
   "pygments_lexer": "ipython3",
   "version": "3.7.9"
  }
 },
 "nbformat": 4,
 "nbformat_minor": 5
}
