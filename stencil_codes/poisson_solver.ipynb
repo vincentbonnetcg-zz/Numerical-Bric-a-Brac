{
 "cells": [
  {
   "cell_type": "markdown",
   "id": "5c0c291e-52ec-4a4f-afaf-c5eb330bf6ee",
   "metadata": {},
   "source": [
    "# Poisson Solver"
   ]
  },
  {
   "cell_type": "markdown",
   "id": "80f8e070-9d4a-4b91-a31b-96f063183c43",
   "metadata": {},
   "source": [
    "Poisson solver using jacobi iteration to a diffusion problem."
   ]
  },
  {
   "cell_type": "markdown",
   "id": "6bbe2ece-f62e-46e2-84b0-5b791fd02b00",
   "metadata": {},
   "source": [
    "## Create domain"
   ]
  },
  {
   "cell_type": "code",
   "execution_count": 1,
   "id": "112d92cb-832d-4e5f-b46d-5aaa8988d66f",
   "metadata": {
    "tags": []
   },
   "outputs": [
    {
     "data": {
      "image/png": "[encoded data removed]",
      "text/plain": [
       "<Figure size 432x288 with 1 Axes>"
      ]
     },
     "metadata": {
      "needs_background": "light"
     },
     "output_type": "display_data"
    }
   ],
   "source": [
    "NUM_NODES = 64\n",
    "\n",
    "import numpy as np\n",
    "import numba\n",
    "import matplotlib.pyplot as plt\n",
    "\n",
    "domain = np.zeros((NUM_NODES, NUM_NODES)) \n",
    "domain[NUM_NODES-1:NUM_NODES] = 1000.0\n",
    "\n",
    "# Draw the domain\n",
    "plt.axis('off')\n",
    "img = plt.imshow(domain, cmap=plt.get_cmap('rainbow'))\n",
    "plt.title('Diffusion')\n",
    "plt.show()"
   ]
  },
  {
   "cell_type": "markdown",
   "id": "90ebc81f-d4e8-4e63-984a-6b15e36780d5",
   "metadata": {},
   "source": [
    "## Jacobi iteration"
   ]
  },
  {
   "cell_type": "markdown",
   "id": "a337b0b2-816c-4cc1-bb90-b7e5221f21f0",
   "metadata": {},
   "source": [
    "    Jacobi method solves Ax=b where\n",
    "    A contains the coefficient of the discrete laplace operator\n",
    "    0 -1  0\n",
    "    -1 4 -1\n",
    "    0 -1  0\n",
    "    x is the unknown discretized function (array)\n",
    "    b is equal to zero\n",
    "    By definition, The jacobi iteration is :\n",
    "    xi(k+1) = 1/aii * (bi - sum(aij * xj(k)) 'where j!=i')\n",
    "    because b is a zero array and aii reference the coefficient 4\n",
    "    xi(k+1) = 1/4 * (- sum(aij * xj(k)) 'for j!=i')\n",
    "    and aij are -1 for j!=i\n",
    "    => xi(k+1) = 1/4 * (sum(xj(k)) 'for j!=i')"
   ]
  },
  {
   "cell_type": "code",
   "execution_count": 2,
   "id": "c3b2005c-f27e-4138-adce-7b5be19f5ce7",
   "metadata": {},
   "outputs": [
    {
     "data": {
      "image/png": "[encoded data removed]",
      "text/plain": [
       "<Figure size 432x288 with 1 Axes>"
      ]
     },
     "metadata": {
      "needs_background": "light"
     },
     "output_type": "display_data"
    }
   ],
   "source": [
    "@numba.njit\n",
    "def jacobi_iteration(x, next_x):\n",
    "    for i in range(1, NUM_NODES-1):\n",
    "        for j in range(1, NUM_NODES-1):\n",
    "            next_x[i][j] = (x[i-1][j] + x[i+1][j] + x[i][j-1] + x[i][j+1]) * 0.25\n",
    "\n",
    "JACOBI_ITERATIONS = 1000\n",
    "buffer = [domain, np.copy(domain)]\n",
    "for it in range(JACOBI_ITERATIONS):\n",
    "    jacobi_iteration(buffer[0], buffer[1])\n",
    "    buffer[0], buffer[1] = buffer[1], buffer[0] # swap buffers\n",
    "\n",
    "# Draw the domain\n",
    "plt.axis('off')\n",
    "img = plt.imshow(buffer[1], cmap=plt.get_cmap('rainbow'))\n",
    "plt.title('Diffusion')\n",
    "plt.show()"
   ]
  },
  {
   "cell_type": "code",
   "execution_count": null,
   "id": "011dc802-a059-432d-9cfd-e51716908ec2",
   "metadata": {},
   "outputs": [],
   "source": []
  }
 ],
 "metadata": {
  "kernelspec": {
   "display_name": "Python 3",
   "language": "python",
   "name": "python3"
  },
  "language_info": {
   "codemirror_mode": {
    "name": "ipython",
    "version": 3
   },
   "file_extension": ".py",
   "mimetype": "text/x-python",
   "name": "python",
   "nbconvert_exporter": "python",
   "pygments_lexer": "ipython3",
   "version": "3.7.9"
  }
 },
 "nbformat": 4,
 "nbformat_minor": 5
}
