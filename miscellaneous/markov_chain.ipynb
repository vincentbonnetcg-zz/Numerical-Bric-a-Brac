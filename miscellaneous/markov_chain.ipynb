{
 "cells": [
  {
   "cell_type": "markdown",
   "id": "ca96cce7-5236-4612-a0a7-2e9a6581c8f1",
   "metadata": {},
   "source": [
    "# Markov Chain"
   ]
  },
  {
   "cell_type": "markdown",
   "id": "a6b3e1e8-ba7f-42be-896f-5036e3202e7f",
   "metadata": {},
   "source": [
    "Use markov chain to generate authors names from the Collection of Poems from Poetry Foundation. "
   ]
  },
  {
   "cell_type": "markdown",
   "id": "2de57515-58d2-42f5-8a7c-5e5a30a968c1",
   "metadata": {},
   "source": [
    "##  Import and config"
   ]
  },
  {
   "cell_type": "code",
   "execution_count": 1,
   "id": "b21761b9-c3f0-409d-b5b6-8d9ca1da866b",
   "metadata": {},
   "outputs": [],
   "source": [
    "import string\n",
    "import re\n",
    "import pandas as pd\n",
    "import numpy as np\n",
    "import random\n",
    "import os\n",
    "from tqdm import tqdm\n",
    "import wget\n",
    "import sys\n",
    "import math\n",
    "\n",
    "ORDER = 2"
   ]
  },
  {
   "cell_type": "markdown",
   "id": "60830d56-4efc-40ae-8a37-4fb17e72b94e",
   "metadata": {},
   "source": [
    "## Load Data"
   ]
  },
  {
   "cell_type": "code",
   "execution_count": 2,
   "id": "7ed87eea-3b6e-4542-b1c1-d3a65c96ece6",
   "metadata": {},
   "outputs": [],
   "source": [
    "def download_file(url, filename):\n",
    "    def bar_progress(current, total, width=80):\n",
    "      progress_msg = \"Downloading: %d%% [%d / %d] bytes\" % (current / total * 100, current, total)\n",
    "      sys.stdout.write(\"\\r\" + progress_msg)\n",
    "      sys.stdout.flush()\n",
    "\n",
    "    if os.path.exists('_downloaded')==False:\n",
    "        os.mkdir('_downloaded')\n",
    "        \n",
    "    filepath = os.path.join('_downloaded', filename)\n",
    "    if os.path.exists(filepath)==True:\n",
    "        return filepath, 0\n",
    "    \n",
    "    wget.download(url, filepath, bar=bar_progress)\n",
    "    \n",
    "    return filepath, 0\n",
    "\n",
    "def load_names_from_poetry_foundations():\n",
    "    url = 'https://raw.githubusercontent.com/vincentbonnetcg/Numerical-Bric-a-Brac/master/data/datasets/kaggle_poem_dataset.csv'\n",
    "    filename = 'kaggle_poem_dataset.csv'\n",
    "    filepath, num_bytes = download_file(url, filename)\n",
    "    \n",
    "    # from https://www.kaggle.com/tgdivy/poetry-foundation-poems  should be downloaded\n",
    "    #filepath = os.path.join(os.getcwd(), \"kaggle_poem_dataset.csv\")\n",
    "    data = pd.read_csv(filepath)\n",
    "    first_names, family_names = set(), set()\n",
    "    for author_names in data['Author']:\n",
    "        names = re.sub('[^a-z]+', ' ', author_names.lower()).split()\n",
    "        if len(names) == 2:\n",
    "            first_names.add(names[0])\n",
    "            family_names.add(names[1])\n",
    "\n",
    "    return list(first_names), list(family_names)\n",
    "\n",
    "first_names, family_names = load_names_from_poetry_foundations()"
   ]
  },
  {
   "cell_type": "markdown",
   "id": "02414743-f104-4c18-949c-1719d41b832f",
   "metadata": {},
   "source": [
    "## Word embedding"
   ]
  },
  {
   "cell_type": "markdown",
   "id": "7102a14d-938a-4416-9e34-9c1adb072b7a",
   "metadata": {},
   "source": [
    "Word embedding consists in converting string into integer values"
   ]
  },
  {
   "cell_type": "code",
   "execution_count": 3,
   "id": "69f39b6e-3f19-4dfb-9865-ee682dde0bd9",
   "metadata": {},
   "outputs": [
    {
     "name": "stdout",
     "output_type": "stream",
     "text": [
      "encoded  [498, 122, 487, 498, 116, 313, 30, 107, 81, 86, 221, 344]\n",
      "decoded  testembedding\n"
     ]
    }
   ],
   "source": [
    "def max_word_embedding():\n",
    "    return len(string.ascii_lowercase) ** ORDER\n",
    "\n",
    "'''\n",
    "Word embedding functions\n",
    "'''\n",
    "def subword_embedding(subword):\n",
    "    # encode the subword\n",
    "    # order_2 : 26^1 + 26^0\n",
    "    # order_3 : 26^2 + 26^1 + 26^0\n",
    "    assert len(subword)==ORDER\n",
    "    char_embedding = 0\n",
    "    for i, char in enumerate(subword):\n",
    "        char_int = ord(char)-ord('a')\n",
    "        base = len(string.ascii_lowercase) ** (ORDER-1-i)\n",
    "        char_embedding += char_int * base\n",
    "    return char_embedding\n",
    "\n",
    "def word_embedding(word):\n",
    "    embedding = []\n",
    "    for i in range(len(word) - ORDER + 1):\n",
    "        embedding.append(subword_embedding(word[i:i+ORDER]))\n",
    "    return embedding\n",
    "\n",
    "'''\n",
    "Word embedding reverse functions\n",
    "'''\n",
    "def subword_reverse_embedding(embedded):\n",
    "    subword = []\n",
    "    for i in range(ORDER):\n",
    "        base = len(string.ascii_lowercase) ** (ORDER-i-1)\n",
    "        char_int = math.floor(embedded / base)\n",
    "        embedded = embedded - (char_int * base)\n",
    "        subword.append(string.ascii_lowercase[char_int])\n",
    "    return subword\n",
    "\n",
    "def word_reverse_embedding(embedded):\n",
    "    word = []\n",
    "    for i, v in enumerate(embedded):\n",
    "        subword = subword_reverse_embedding(v)\n",
    "        if i==0:\n",
    "            for char in subword:\n",
    "                word.append(char)\n",
    "        else:\n",
    "            word.append(subword[-1])\n",
    "    return ''.join(word)\n",
    "\n",
    "encoded = word_embedding('testembedding')\n",
    "decoded = word_reverse_embedding(encoded)\n",
    "print(\"encoded \", encoded)\n",
    "print(\"decoded \", decoded)"
   ]
  },
  {
   "cell_type": "markdown",
   "id": "e1360a98-8474-42bf-9b8a-3d08dcde070d",
   "metadata": {},
   "source": [
    "## Transition matrix"
   ]
  },
  {
   "cell_type": "markdown",
   "id": "ea29f6b9-42c9-42ba-a3a4-5632d1173df4",
   "metadata": {},
   "source": [
    "A **transition matrix** (also known as a stochastic matrix) is a square matrix that describes the transitions in a Markov chain $M$. Each entry $M_{i, j}$ is a positive real number that represents the likelihood of moving from i to j in a single time step."
   ]
  },
  {
   "cell_type": "code",
   "execution_count": 4,
   "id": "82f28e15-dc86-4bdd-bc00-1b1da4f99e2c",
   "metadata": {},
   "outputs": [],
   "source": [
    "def transition_matrix(names):\n",
    "    # create transition matrix\n",
    "    N = max_word_embedding()\n",
    "    mat = np.zeros((N, N))\n",
    "    for name in names:\n",
    "        for jj in range(1, len(name) - ORDER + 1):\n",
    "            ii = jj-1\n",
    "            i = subword_embedding(name[ii:ii+ORDER])\n",
    "            j = subword_embedding(name[jj:jj+ORDER])\n",
    "            mat[i,j] += 1\n",
    "            \n",
    "    # compute the probabilities\n",
    "    for i in range(N):\n",
    "        s = np.sum(mat[i,:])\n",
    "        if s!=0.0:\n",
    "            mat[i,:] /= s\n",
    "  \n",
    "    return mat"
   ]
  },
  {
   "cell_type": "markdown",
   "id": "0b1c292c-f3ff-479c-8630-b506157c5a3d",
   "metadata": {},
   "source": [
    "## Generate author names"
   ]
  },
  {
   "cell_type": "code",
   "execution_count": 7,
   "id": "6ba3fd53-751c-4cb5-870b-7604db95ccbc",
   "metadata": {},
   "outputs": [
    {
     "name": "stdout",
     "output_type": "stream",
     "text": [
      "generated name : centede hillegerne\n"
     ]
    }
   ],
   "source": [
    "def generate_name(names, num_words):\n",
    "    N = max_word_embedding()\n",
    "    # compute transition matrix\n",
    "    transition = transition_matrix(names)\n",
    "    # get random start\n",
    "    subword = random.choice(names)[:ORDER]\n",
    "    txt = [v for v in subword]\n",
    "    # generate random name\n",
    "    i = word_embedding(subword)[0]\n",
    "    for _ in range(num_words):\n",
    "        probability_row = transition[i,:]\n",
    "        value = np.random.choice(range(N), replace=True,p=probability_row)\n",
    "        txt.append(subword_reverse_embedding(value)[-1])\n",
    "        i = value\n",
    "    return ''.join(txt) \n",
    "\n",
    "first_name = generate_name(first_names, 5)\n",
    "family_name = generate_name(family_names, 8)\n",
    "print('generated name : {} {}'.format(first_name, family_name))"
   ]
  },
  {
   "cell_type": "code",
   "execution_count": null,
   "id": "ab4d4abb-9104-48aa-82ab-cd8e472d10d1",
   "metadata": {},
   "outputs": [],
   "source": []
  }
 ],
 "metadata": {
  "kernelspec": {
   "display_name": "Python 3",
   "language": "python",
   "name": "python3"
  },
  "language_info": {
   "codemirror_mode": {
    "name": "ipython",
    "version": 3
   },
   "file_extension": ".py",
   "mimetype": "text/x-python",
   "name": "python",
   "nbconvert_exporter": "python",
   "pygments_lexer": "ipython3",
   "version": "3.8.8"
  }
 },
 "nbformat": 4,
 "nbformat_minor": 5
}
