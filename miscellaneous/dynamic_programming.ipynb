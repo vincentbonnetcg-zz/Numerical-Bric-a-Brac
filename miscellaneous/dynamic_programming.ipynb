{
 "cells": [
  {
   "cell_type": "markdown",
   "id": "784ccfb6-4978-4cdd-b426-7ca539444b4b",
   "metadata": {},
   "source": [
    "# Dynamic Programming"
   ]
  },
  {
   "cell_type": "markdown",
   "id": "3bee39e1-ed83-41f3-ab1b-a3267f51d182",
   "metadata": {},
   "source": [
    "**Dynamic Programming** splits problems into overlapping subproblems using recursion. It relies on **memorization** to store some results of the recursion and save computations.\n",
    "It differs from Divide-and-Conquer algorithms which solve non-overlapping subproblems\n",
    "\n",
    "\n"
   ]
  },
  {
   "cell_type": "markdown",
   "id": "ae9b89f2-027c-4784-98cf-8b8972a656e8",
   "metadata": {},
   "source": [
    "## Longest Increasing Subsequence (LIS)"
   ]
  },
  {
   "cell_type": "markdown",
   "id": "890a6fbf-2398-42a4-af18-db09046decaf",
   "metadata": {},
   "source": [
    "Find the length of the longest increasing subsequence (LIS)"
   ]
  },
  {
   "cell_type": "code",
   "execution_count": 1,
   "id": "31b5c5b4-7b3e-43be-94e7-34a17ef268f1",
   "metadata": {},
   "outputs": [],
   "source": [
    "sequence = [0, 8, 4, 12, 2, 10, 6, 14, 1, 9, 5, 13, 3, 11, 7, 15]"
   ]
  },
  {
   "cell_type": "markdown",
   "id": "a90a013b-2667-413a-9079-3a7ea4e7dfc8",
   "metadata": {},
   "source": [
    "**How to solve it ?**\n",
    "\n",
    "The LIS of the element at index k is equal to one plus the maximum LIS of the previous smalles value\n",
    "\n",
    "LIS[k] = 1 + max{LIS[a], LIS[b], ...} where LIS[a] < LIS[k] and LIS[b] < LIS[k]\n",
    "\n",
    "The subproblem is formulated as LIS[k] for k from i if A[k] < A[i]"
   ]
  },
  {
   "cell_type": "code",
   "execution_count": 2,
   "id": "ea1b6b0c-e4ff-465a-a0db-e988f2e6cf45",
   "metadata": {},
   "outputs": [
    {
     "name": "stdout",
     "output_type": "stream",
     "text": [
      "Longest Increasing Subsequence of  [0, 8, 4, 12, 2, 10, 6, 14, 1, 9, 5, 13, 3, 11, 7, 15]  is :\n",
      "[0, 4, 6, 9, 13, 15]\n"
     ]
    }
   ],
   "source": [
    "def LIS(array):\n",
    "    # store array of Longest Increasing Subsequence that ends with the i^{th} index\n",
    "    indices = [-1] * len(array) # keep track of indices \n",
    "    lis = [1] * len(array)\n",
    "    for i in range(1, len(array)):\n",
    "        for j in range(i):\n",
    "            if array[j] < array[i]:\n",
    "                if (lis[j]+1 > lis[i]):\n",
    "                    lis[i] = lis[j]+1\n",
    "                    indices[i] = j\n",
    "    \n",
    "    # get index of the larget LIS\n",
    "    result = []\n",
    "    idx = lis.index(max(lis))\n",
    "    while (idx != -1):\n",
    "        result.append(array[idx])\n",
    "        idx = indices[idx]\n",
    "    \n",
    "    result.reverse()\n",
    "    return result\n",
    "\n",
    "print(\"Longest Increasing Subsequence of \", sequence, \" is :\")\n",
    "print(LIS(sequence))"
   ]
  },
  {
   "cell_type": "markdown",
   "id": "555c23f4-0aba-4b18-bfa2-3278a66c7dc1",
   "metadata": {},
   "source": [
    "## More Examples ..."
   ]
  },
  {
   "cell_type": "code",
   "execution_count": null,
   "id": "dd009e59-d189-4db0-b3b3-56958f7fe323",
   "metadata": {},
   "outputs": [],
   "source": []
  }
 ],
 "metadata": {
  "kernelspec": {
   "display_name": "Python 3",
   "language": "python",
   "name": "python3"
  },
  "language_info": {
   "codemirror_mode": {
    "name": "ipython",
    "version": 3
   },
   "file_extension": ".py",
   "mimetype": "text/x-python",
   "name": "python",
   "nbconvert_exporter": "python",
   "pygments_lexer": "ipython3",
   "version": "3.7.9"
  }
 },
 "nbformat": 4,
 "nbformat_minor": 5
}
