{
 "cells": [
  {
   "cell_type": "markdown",
   "id": "a1cfd908-4c0b-4b4a-89c4-fb5038276fb9",
   "metadata": {},
   "source": [
    "# Setup environment"
   ]
  },
  {
   "cell_type": "code",
   "execution_count": null,
   "id": "d5825d0e-38c8-4433-82cc-d2e793fe1f37",
   "metadata": {},
   "outputs": [],
   "source": [
    "!pip install wget\n",
    "!pip install snakemake\n",
    "!pip install pydot\n",
    "!pip install graphviz"
   ]
  },
  {
   "cell_type": "markdown",
   "id": "93207bef-7b6e-4ae6-b95c-184623b85cc7",
   "metadata": {},
   "source": [
    "# Download "
   ]
  },
  {
   "cell_type": "code",
   "execution_count": null,
   "id": "747efe78-5f33-49b6-8454-d3686d1cd041",
   "metadata": {},
   "outputs": [],
   "source": [
    "import wget\n",
    "import os\n",
    "\n",
    "def download_file(filepath):\n",
    "    github = 'https://raw.githubusercontent.com/vincentbonnetcg/Numerical-Bric-a-Brac/master/mlops/'\n",
    "    if os.path.exists(filepath)==True:\n",
    "        return filepath\n",
    "    url = os.path.join(github, filepath)\n",
    "    wget.download(url, filepath)\n",
    "\n",
    "# prepare folder\n",
    "if not os.path.exists('data'):\n",
    "    os.mkdir('data')\n",
    "\n",
    "# prepare file\n",
    "download_file('create_report.py')\n",
    "download_file('plot_data.py')\n",
    "download_file('prep_data.py')\n",
    "download_file('data/ufo_sightings_scrubbed.csv')\n",
    "download_file('Snakefile')"
   ]
  },
  {
   "cell_type": "markdown",
   "id": "6997e9e0-8068-461f-96cd-fec75f6329f3",
   "metadata": {},
   "source": [
    "# Run report code"
   ]
  },
  {
   "cell_type": "code",
   "execution_count": null,
   "id": "f97dfee7-b3a3-459f-939f-d40d0c7c489c",
   "metadata": {},
   "outputs": [],
   "source": [
    "!snakemake create_report -c1 "
   ]
  },
  {
   "cell_type": "markdown",
   "id": "af142f7b-2fcf-4cd8-8016-71f6ed0b26f0",
   "metadata": {},
   "source": [
    "# Dag"
   ]
  },
  {
   "cell_type": "code",
   "execution_count": null,
   "id": "efbb93a6-933f-49a3-b587-d2dd331c33a9",
   "metadata": {},
   "outputs": [],
   "source": [
    "import graphviz\n",
    "from graphviz import Source\n",
    "\n",
    "!snakemake --dag create_report -c1 > full_graph.dot\n",
    "Source.from_file(\"full_graph.dot\")"
   ]
  }
 ],
 "metadata": {
  "kernelspec": {
   "display_name": "Python 3",
   "language": "python",
   "name": "python3"
  },
  "language_info": {
   "codemirror_mode": {
    "name": "ipython",
    "version": 3
   },
   "file_extension": ".py",
   "mimetype": "text/x-python",
   "name": "python",
   "nbconvert_exporter": "python",
   "pygments_lexer": "ipython3",
   "version": "3.8.8"
  }
 },
 "nbformat": 4,
 "nbformat_minor": 5
}
