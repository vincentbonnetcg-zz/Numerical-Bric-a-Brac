{
  "cells": [
    {
      "cell_type": "markdown",
      "id": "345f2b5a-723f-4cd9-8904-92760666d1fa",
      "metadata": {
        "id": "345f2b5a-723f-4cd9-8904-92760666d1fa"
      },
      "source": [
        "# Generate face with VAE"
      ]
    },
    {
      "cell_type": "markdown",
      "id": "d6881009-c5a3-48c4-ab63-d155f744c9ef",
      "metadata": {
        "id": "d6881009-c5a3-48c4-ab63-d155f744c9ef"
      },
      "source": [
        "Replicating the VAE model to generate faces with PyTorch.\n",
        "\n",
        "**Reference** : Foster, David. Generative deep learning: teaching machines to paint, write, compose, and play. O'Reilly Media, 2019."
      ]
    },
    {
      "cell_type": "markdown",
      "id": "accd47ea-630a-422d-9380-e6b515f61d95",
      "metadata": {
        "id": "accd47ea-630a-422d-9380-e6b515f61d95"
      },
      "source": [
        "## Import"
      ]
    },
    {
      "cell_type": "code",
      "execution_count": null,
      "id": "9673d40a-7311-4eea-965c-bf321a149577",
      "metadata": {
        "id": "9673d40a-7311-4eea-965c-bf321a149577"
      },
      "outputs": [],
      "source": [
        "from __future__ import print_function\n",
        "#%matplotlib inline\n",
        "import argparse\n",
        "import os\n",
        "import random\n",
        "import torch\n",
        "import torch.nn as nn\n",
        "import torch.nn.parallel\n",
        "import torch.backends.cudnn as cudnn\n",
        "import torch.optim as optim\n",
        "import torch.utils.data\n",
        "import torchvision\n",
        "import torchvision.datasets as dset\n",
        "import torchvision.transforms as transforms\n",
        "import torchvision.utils as vutils\n",
        "import numpy as np\n",
        "import matplotlib.pyplot as plt\n",
        "import matplotlib.animation as animation\n",
        "from IPython.display import HTML\n",
        "import wget\n",
        "import pandas as pd\n",
        "\n",
        "\n",
        "\n",
        "# Set random seed for reproducibility\n",
        "#manualSeed = 999\n",
        "#manualSeed = random.randint(1, 10000) # use if you want new results\n",
        "#print(\"Random Seed: \", manualSeed)\n",
        "#random.seed(manualSeed)\n",
        "#torch.manual_seed(manualSeed)"
      ]
    },
    {
      "cell_type": "markdown",
      "id": "bc0e1942-b37e-44a2-b434-1f4e8759346a",
      "metadata": {
        "id": "bc0e1942-b37e-44a2-b434-1f4e8759346a"
      },
      "source": [
        "## Load dataset"
      ]
    },
    {
      "cell_type": "markdown",
      "id": "2abe2025-fe68-4b88-9fd9-6be30836c09e",
      "metadata": {
        "id": "2abe2025-fe68-4b88-9fd9-6be30836c09e"
      },
      "source": [
        "Create a folder called \"_downloaded\" to contain all the download raw data"
      ]
    },
    {
      "cell_type": "code",
      "execution_count": null,
      "id": "496c78b3-f714-4e8e-9e97-38b13b739a23",
      "metadata": {
        "id": "496c78b3-f714-4e8e-9e97-38b13b739a23",
        "outputId": "5f7288af-2ae1-4ce1-e05c-164737183322"
      },
      "outputs": [
        {
          "name": "stdout",
          "output_type": "stream",
          "text": [
            "Files already downloaded and verified\n"
          ]
        }
      ],
      "source": [
        "img_dataset = torchvision.datasets.LFWPeople(\"_downloaded\", download=True) # load pictures"
      ]
    },
    {
      "cell_type": "code",
      "execution_count": null,
      "id": "a4938475-4dfb-4103-b92c-a40a0bfec958",
      "metadata": {
        "id": "a4938475-4dfb-4103-b92c-a40a0bfec958"
      },
      "outputs": [],
      "source": [
        "attrs_url = \"https://www.cs.columbia.edu/CAVE/databases/pubfig/download/lfw_attributes.txt\"\n",
        "attrs_path = \"_downloaded//lfw_attributes.txt\"\n",
        "if not os.path.exists(attrs_path):\n",
        "    wget.download(attrs_url, attrs_path)\n"
      ]
    },
    {
      "cell_type": "code",
      "execution_count": null,
      "id": "de16565b-7b48-4b9e-9f2a-e70f07e96e60",
      "metadata": {
        "id": "de16565b-7b48-4b9e-9f2a-e70f07e96e60"
      },
      "outputs": [],
      "source": [
        "df_attrs = pd.read_csv(attrs_path,sep='\\t',skiprows=1,) \n",
        "df_attrs = pd.DataFrame(df_attrs.iloc[:, :-1].values, columns=df_attrs.columns[1:])\n",
        "num_rows = len(df_attrs.index)\n",
        "print(df_attrs.head())\n"
      ]
    },
    {
      "cell_type": "markdown",
      "id": "08d68507-2df1-47d7-bd07-8637003620f5",
      "metadata": {
        "id": "08d68507-2df1-47d7-bd07-8637003620f5"
      },
      "source": [
        "# Prepare data"
      ]
    },
    {
      "cell_type": "markdown",
      "id": "381e8d0f-bcad-4583-9783-05503fa4d762",
      "metadata": {
        "id": "381e8d0f-bcad-4583-9783-05503fa4d762"
      },
      "source": [
        "Create all"
      ]
    },
    {
      "cell_type": "code",
      "execution_count": null,
      "id": "8634c4f3-2261-41c5-98a0-417ca2361d44",
      "metadata": {
        "id": "8634c4f3-2261-41c5-98a0-417ca2361d44"
      },
      "outputs": [],
      "source": [
        "# TODO"
      ]
    },
    {
      "cell_type": "markdown",
      "id": "b82927c2-65cd-4d4f-8d34-6641840cafe7",
      "metadata": {
        "id": "b82927c2-65cd-4d4f-8d34-6641840cafe7"
      },
      "source": [
        "# Dataset"
      ]
    },
    {
      "cell_type": "code",
      "execution_count": null,
      "id": "5f0f8660-c8b6-4785-9483-d1d35e116e29",
      "metadata": {
        "id": "5f0f8660-c8b6-4785-9483-d1d35e116e29"
      },
      "outputs": [],
      "source": [
        "# pytorh dataset"
      ]
    }
  ],
  "metadata": {
    "kernelspec": {
      "display_name": "Python 3",
      "language": "python",
      "name": "python3"
    },
    "language_info": {
      "codemirror_mode": {
        "name": "ipython",
        "version": 3
      },
      "file_extension": ".py",
      "mimetype": "text/x-python",
      "name": "python",
      "nbconvert_exporter": "python",
      "pygments_lexer": "ipython3",
      "version": "3.8.8"
    },
    "colab": {
      "name": "vae_face.ipynb",
      "provenance": []
    }
  },
  "nbformat": 4,
  "nbformat_minor": 5
}