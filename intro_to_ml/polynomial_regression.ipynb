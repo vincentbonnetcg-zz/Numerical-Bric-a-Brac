{
 "cells": [
  {
   "cell_type": "markdown",
   "metadata": {},
   "source": [
    "# Polynomial Regression\n",
    "\n",
    "This notebook demonstrates a simple polynomial regression implementation."
   ]
  },
  {
   "cell_type": "markdown",
   "metadata": {},
   "source": [
    "## Visualize Input Data\n",
    "First, a dataset is created and made of multiple examples with a single feature."
   ]
  },
  {
   "cell_type": "code",
   "execution_count": 5,
   "metadata": {},
   "outputs": [
    {
     "data": {
      "text/plain": [
       "<matplotlib.collections.PathCollection at 0x1944dda7d08>"
      ]
     },
     "execution_count": 5,
     "metadata": {},
     "output_type": "execute_result"
    },
    {
     "data": {
      "image/png": "[encoded data removed]",
      "text/plain": [
       "<Figure size 432x288 with 1 Axes>"
      ]
     },
     "metadata": {
      "needs_background": "light"
     },
     "output_type": "display_data"
    }
   ],
   "source": [
    "import numpy as np\n",
    "from sklearn import datasets\n",
    "import matplotlib.pyplot as plt\n",
    "\n",
    "# Generate a random dataset\n",
    "m = 20 # number of samples\n",
    "np.random.seed(0)\n",
    "x = 2.5 * np.random.normal(0, 1, m)\n",
    "y = x - 3 * (x ** 2) + 0.5 * (x ** 3) \n",
    "y += np.random.rand(m) * 5\n",
    "\n",
    "# check the shape of the training data \n",
    "# x.shape is (n_samples, n_features=1)\n",
    "# y.shape is (n_samples)\n",
    "\n",
    "poly_degree = 5\n",
    "\n",
    "# Show the dataset\n",
    "plt.title('Input Data')\n",
    "plt.scatter(x, y, color='yellowgreen', marker='.')"
   ]
  },
  {
   "cell_type": "markdown",
   "metadata": {},
   "source": [
    "## Generate Model (Analytic)"
   ]
  },
  {
   "cell_type": "markdown",
   "metadata": {},
   "source": [
    "Our hypothesis for a single example is $h(x)=\\theta_{0} + \\theta_{1}x + \\theta_{2}x^2 + \\dots + \\theta_{n}x^n + \\varepsilon$  and we are looking for a $\\theta$ to minimize the model.\n",
    "\n",
    "The matrix form for multiple examples is :\n",
    "\n",
    "$$y=X \\theta+\\epsilon$$\n",
    "\n",
    "where $X$ is the Vandermonde matrix of size(num_sample, poly_degree)\n",
    "\n",
    "$$\\begin{bmatrix}\n",
    "y_{1}\n",
    "\\\\ y_{2}\n",
    "\\\\ \\vdots\n",
    "\\\\ y_{m}\n",
    "\\end{bmatrix} \n",
    "=\n",
    "\\begin{bmatrix}\n",
    "1 & x_{1} & x_{1}^2 & \\dots & x_{1}^n \\\\ \n",
    "1 & x_{2} & x_{2}^2 & \\dots & x_{2}^n \\\\ \n",
    "\\vdots & \\vdots & \\vdots & \\ddots & \\vdots \\\\ \n",
    "1 & x_{m} & x_{m}^2 & \\vdots & x_{m}^n\n",
    "\\end{bmatrix}\n",
    "\\begin{bmatrix}\n",
    "\\theta_{1}\n",
    "\\\\ \\theta_{2}\n",
    "\\\\ \\vdots\n",
    "\\\\ \\theta_{n}\n",
    "\\end{bmatrix} \n",
    "+\n",
    "\\begin{bmatrix}\n",
    "\\epsilon_{1}\n",
    "\\\\ \\epsilon_{2}\n",
    "\\\\ \\vdots\n",
    "\\\\ \\epsilon_{m}\n",
    "\\end{bmatrix} $$\n",
    "\n",
    "The solution is from the **normal equation**.\n",
    "\n",
    "$$\\theta = (X^{T}X)^{-1}.(X^{T}y)$$"
   ]
  },
  {
   "cell_type": "code",
   "execution_count": 2,
   "metadata": {},
   "outputs": [],
   "source": [
    "# compute the parameters with the Normal Equation : inv(transpose(X).X).(transpose(X)y)\n",
    "X = np.vander(x, poly_degree, increasing=True)\n",
    "Xt = np.transpose(X)\n",
    "thetas = np.linalg.pinv(np.dot(Xt, X)).dot(np.dot(Xt, y))"
   ]
  },
  {
   "cell_type": "markdown",
   "metadata": {},
   "source": [
    "## Generate Model (Gradient Descent)"
   ]
  },
  {
   "cell_type": "markdown",
   "metadata": {},
   "source": [
    "While gradient descent is **not** great with polynomial regression because it is not convex, lets give it a try ! \n",
    "\n",
    "We are using the mean squared error (MSE) over $m$ examples :\n",
    "\n",
    "$$J(\\theta_{0}, \\theta_{1}, \\dots, \\theta_{n})= \\frac{1}{2m} \\sum_{i=1}^{m}{\\left (h_{\\theta}(x_{i})-y_{i} \\right )^2}$$\n"
   ]
  },
  {
   "cell_type": "code",
   "execution_count": 3,
   "metadata": {},
   "outputs": [
    {
     "data": {
      "text/plain": [
       "[<matplotlib.lines.Line2D at 0x1944c8d9108>]"
      ]
     },
     "execution_count": 3,
     "metadata": {},
     "output_type": "execute_result"
    },
    {
     "data": {
      "image/png": "[encoded data removed]",
      "text/plain": [
       "<Figure size 432x288 with 1 Axes>"
      ]
     },
     "metadata": {
      "needs_background": "light"
     },
     "output_type": "display_data"
    }
   ],
   "source": [
    "# vectorized implementation the equations above \n",
    "num_iterations = 10000\n",
    "learning_rate = 0.00002\n",
    "thetas = np.zeros(poly_degree)\n",
    "\n",
    "# compute X\n",
    "X = np.vander(x, poly_degree, increasing=True)\n",
    "\n",
    "# gradient descent\n",
    "stats = np.empty(num_iterations)\n",
    "for i in range(num_iterations):\n",
    "    # update parameters\n",
    "    error = (np.dot(X, thetas) - y)\n",
    "    for j in range(poly_degree):\n",
    "        thetas[j] -= np.mean(error * X[:,j]) * learning_rate\n",
    "\n",
    "    # store cost for future plotting\n",
    "    new_error = (np.dot(X, thetas) - y)\n",
    "    cost = np.dot(new_error, new_error) / (2*m)\n",
    "    stats[i] = cost\n",
    "\n",
    "plt.title('Gradient descent (cost)')\n",
    "plt.ylabel('cost')\n",
    "plt.xlabel('iteration')\n",
    "plt.plot(range(num_iterations),stats,'-r', alpha=0.3)"
   ]
  },
  {
   "cell_type": "markdown",
   "metadata": {},
   "source": [
    "## Prediction"
   ]
  },
  {
   "cell_type": "code",
   "execution_count": 4,
   "metadata": {},
   "outputs": [
    {
     "data": {
      "text/plain": [
       "[<matplotlib.lines.Line2D at 0x1944dd28608>]"
      ]
     },
     "execution_count": 4,
     "metadata": {},
     "output_type": "execute_result"
    },
    {
     "data": {
      "image/png": "[encoded data removed]",
      "text/plain": [
       "<Figure size 432x288 with 1 Axes>"
      ]
     },
     "metadata": {
      "needs_background": "light"
     },
     "output_type": "display_data"
    }
   ],
   "source": [
    "mn=np.min(x)\n",
    "mx=np.max(x)\n",
    "plot_x=np.linspace(mn,mx,500)\n",
    "vander_x = np.vander(plot_x, poly_degree, increasing=True)\n",
    "plot_y = np.dot(vander_x, thetas)\n",
    "\n",
    "plt.scatter(x, y, color='yellowgreen', marker='.')\n",
    "plt.title('Input Data and Prediction')\n",
    "plt.plot(plot_x,plot_y,'-r', alpha=0.3)"
   ]
  },
  {
   "cell_type": "code",
   "execution_count": null,
   "metadata": {},
   "outputs": [],
   "source": []
  }
 ],
 "metadata": {
  "kernelspec": {
   "display_name": "Python 3",
   "language": "python",
   "name": "python3"
  },
  "language_info": {
   "codemirror_mode": {
    "name": "ipython",
    "version": 3
   },
   "file_extension": ".py",
   "mimetype": "text/x-python",
   "name": "python",
   "nbconvert_exporter": "python",
   "pygments_lexer": "ipython3",
   "version": "3.7.7"
  }
 },
 "nbformat": 4,
 "nbformat_minor": 4
}
