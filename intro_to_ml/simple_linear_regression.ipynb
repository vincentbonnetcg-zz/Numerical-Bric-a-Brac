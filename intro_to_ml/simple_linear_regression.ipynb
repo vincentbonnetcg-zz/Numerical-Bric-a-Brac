{
 "cells": [
  {
   "cell_type": "markdown",
   "metadata": {},
   "source": [
    "# Simple Linear Regression\n",
    "\n",
    "This notebook demonstrates a simple linear regression implementation. The dataset is generated from scikit-learn library."
   ]
  },
  {
   "cell_type": "markdown",
   "metadata": {},
   "source": [
    "## Visualize Input Data\n",
    "First, a dataset is created and made of multiple examples with a single feature."
   ]
  },
  {
   "cell_type": "code",
   "execution_count": 2,
   "metadata": {},
   "outputs": [
    {
     "data": {
      "text/plain": [
       "<matplotlib.collections.PathCollection at 0x1b3414d0a08>"
      ]
     },
     "execution_count": 2,
     "metadata": {},
     "output_type": "execute_result"
    },
    {
     "data": {
      "image/png": "[encoded data removed]",
      "text/plain": [
       "<Figure size 432x288 with 1 Axes>"
      ]
     },
     "metadata": {
      "needs_background": "light"
     },
     "output_type": "display_data"
    }
   ],
   "source": [
    "import numpy as np\n",
    "from sklearn import datasets\n",
    "import matplotlib.pyplot as plt\n",
    "\n",
    "# Generate a random dataset\n",
    "m = 20 # number of samples\n",
    "x, y = datasets.make_regression(n_features=1, n_samples=m, \n",
    "                                random_state=0, noise=1.0)\n",
    "\n",
    "# check the shape of the training data \n",
    "# x.shape is (n_samples, n_features=1)\n",
    "# y.shape is (n_samples)\n",
    "\n",
    "# Show the dataset\n",
    "plt.title('Input Data')\n",
    "plt.scatter(x, y, color='yellowgreen', marker='.')"
   ]
  },
  {
   "cell_type": "markdown",
   "metadata": {},
   "source": [
    "## Generate Model (Analytic)"
   ]
  },
  {
   "cell_type": "markdown",
   "metadata": {},
   "source": [
    "Our hypothesis for a single example is $h(x)=\\theta_{0} + \\theta_{1}x$ and we are looking for a $\\theta$ to minimize the model.\n",
    "\n",
    "Iterative methods (like gradient descent) could be applied to minimize the function but in this case, we are using the **normal equation**.\n",
    "\n",
    "$$(X^{T}X)^{-1}.(X^{T}y)$$"
   ]
  },
  {
   "cell_type": "code",
   "execution_count": 3,
   "metadata": {},
   "outputs": [],
   "source": [
    "# compute X\n",
    "X = np.ones((m, 2)) \n",
    "X[:,1] = x.reshape(m)\n",
    "\n",
    "# compute transpose(X)\n",
    "Xt = np.transpose(X)\n",
    "\n",
    "# compute the parameters with the Normal Equation : inv(transpose(X).X).(transpose(X)y)\n",
    "thetas = np.linalg.pinv(np.dot(Xt, X)).dot(np.dot(Xt, y))"
   ]
  },
  {
   "cell_type": "markdown",
   "metadata": {},
   "source": [
    "## Generate Model (Gradient Descent)\n"
   ]
  },
  {
   "cell_type": "markdown",
   "metadata": {},
   "source": [
    "a common cost function (using the mean squared error) over $m$ examples is :\n",
    "\n",
    "$$J(\\theta_{0}, \\theta_{1})= \\frac{1}{2m} \\sum_{i=1}^{m}{\\left (h_{\\theta}(x_{i})-y_{i} \\right )^2}$$\n",
    "\n",
    "The **partial derivates** of $\\frac{\\partial J}{\\partial \\theta_{0}}$ :\n",
    "\n",
    "$$\\frac{\\partial J}{\\partial \\theta_{0}} = \\frac{1}{m} \\sum_{i=1}^{m}{\\left (h_{\\theta}(x_{i})-y_{i} \\right )}$$\n",
    "\n",
    "The **partial derivates** of $\\frac{\\partial J}{\\partial \\theta_{1}}$ :\n",
    "\n",
    "$$\\frac{\\partial J}{\\partial \\theta_{1}} = \\frac{1}{m} \\sum_{i=1}^{m}{\\left (h_{\\theta}(x_{i})-y_{i} \\right ).x_{i}}$$"
   ]
  },
  {
   "cell_type": "code",
   "execution_count": 4,
   "metadata": {},
   "outputs": [
    {
     "data": {
      "text/plain": [
       "[<matplotlib.lines.Line2D at 0x1b3429a10c8>]"
      ]
     },
     "execution_count": 4,
     "metadata": {},
     "output_type": "execute_result"
    },
    {
     "data": {
      "image/png": "[encoded data removed]",
      "text/plain": [
       "<Figure size 432x288 with 1 Axes>"
      ]
     },
     "metadata": {
      "needs_background": "light"
     },
     "output_type": "display_data"
    }
   ],
   "source": [
    "# vectorized implementation the equations above \n",
    "num_iterations = 100\n",
    "learning_rate = 0.05\n",
    "thetas = np.zeros(2)\n",
    "\n",
    "# compute X\n",
    "X = np.ones((m, 2)) \n",
    "X[:,1] = x.reshape(m)\n",
    "\n",
    "# gradient descent\n",
    "stats = np.empty(num_iterations)\n",
    "for i in range(num_iterations):\n",
    "    # update parameters\n",
    "    error = (np.dot(X, thetas) - y)\n",
    "    thetas[0] -= np.mean(error * X[:,0]) * learning_rate\n",
    "    thetas[1] -= np.mean(error * X[:,1]) * learning_rate\n",
    "    \n",
    "    # store cost for future plotting\n",
    "    new_error = (np.dot(X, thetas) - y)\n",
    "    cost = np.dot(new_error, new_error) / (2*m)\n",
    "    stats[i] = cost\n",
    "\n",
    "plt.title('Gradient descent (cost)')\n",
    "plt.ylabel('cost')\n",
    "plt.xlabel('iteration')\n",
    "plt.plot(range(num_iterations),stats,'-r', alpha=0.3)"
   ]
  },
  {
   "cell_type": "markdown",
   "metadata": {},
   "source": [
    "## Prediction"
   ]
  },
  {
   "cell_type": "code",
   "execution_count": 5,
   "metadata": {},
   "outputs": [
    {
     "data": {
      "text/plain": [
       "[<matplotlib.lines.Line2D at 0x1b342a04b08>]"
      ]
     },
     "execution_count": 5,
     "metadata": {},
     "output_type": "execute_result"
    },
    {
     "data": {
      "image/png": "[encoded data removed]",
      "text/plain": [
       "<Figure size 432x288 with 1 Axes>"
      ]
     },
     "metadata": {
      "needs_background": "light"
     },
     "output_type": "display_data"
    }
   ],
   "source": [
    "mn=np.min(x)\n",
    "mx=np.max(x)\n",
    "plot_x=np.linspace(mn,mx,500)\n",
    "plot_y=thetas[0]+thetas[1]*plot_x # which is h(\\theta)\n",
    "\n",
    "plt.scatter(x, y, color='yellowgreen', marker='.')\n",
    "plt.title('Input Data and Prediction')\n",
    "plt.plot(plot_x,plot_y,'-r', alpha=0.3)\n"
   ]
  }
 ],
 "metadata": {
  "kernelspec": {
   "display_name": "Python 3",
   "language": "python",
   "name": "python3"
  },
  "language_info": {
   "codemirror_mode": {
    "name": "ipython",
    "version": 3
   },
   "file_extension": ".py",
   "mimetype": "text/x-python",
   "name": "python",
   "nbconvert_exporter": "python",
   "pygments_lexer": "ipython3",
   "version": "3.7.7"
  }
 },
 "nbformat": 4,
 "nbformat_minor": 4
}
