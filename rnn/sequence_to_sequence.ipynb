{
  "nbformat": 4,
  "nbformat_minor": 0,
  "metadata": {
    "colab": {
      "name": "sequence_to_sequence.ipynb",
      "provenance": [],
      "collapsed_sections": [],
      "authorship_tag": "ABX9TyMBKBvwk8fkFTo1JWONLFHg",
      "include_colab_link": true
    },
    "kernelspec": {
      "name": "python3",
      "display_name": "Python 3"
    },
    "language_info": {
      "name": "python"
    }
  },
  "cells": [
    {
      "cell_type": "markdown",
      "metadata": {
        "id": "view-in-github",
        "colab_type": "text"
      },
      "source": [
        "<a href=\"https://colab.research.google.com/github/vincentbonnetcg/Numerical-Bric-a-Brac/blob/master/rnn/sequence_to_sequence.ipynb\" target=\"_parent\"><img src=\"https://colab.research.google.com/assets/colab-badge.svg\" alt=\"Open In Colab\"/></a>"
      ]
    },
    {
      "cell_type": "markdown",
      "source": [
        "# Sequence to Sequence for Machine Translation\n",
        "\n",
        "In this project we will use a neural network to translate from French to English. It is heavily based on a tutorial provided by PyTorch.\n",
        "https://pytorch.org/tutorials/intermediate/seq2seq_translation_tutorial.html\n",
        "\n",
        "![image.png](data:image/png;base64,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)\n",
        "\n",
        "In this exercice we design an encoder-decoder architecture supporting variable-lenght sequence. We develop one **encoder** and **decoder** for sequence to sequence learning used on machine translation.  [Cho et al., 2014b, Sutskever et al., 2014]. The encoder and decoder are based on recurrent neural networks (RNN).\n",
        "- The **encoder** takes a variable-length sequence and encode it into a **fixed-length hidden state**\n",
        "- The **decoder** takes the fixed-length hidden state and convert it into a variable-lenght sequence.\n",
        "\n",
        "An **attention-mechanism** is implemeted to improve the result.\n"
      ],
      "metadata": {
        "id": "RtbXbAmPcu9U"
      }
    },
    {
      "cell_type": "markdown",
      "source": [
        "# Packages"
      ],
      "metadata": {
        "id": "sqTapj6RencK"
      }
    },
    {
      "cell_type": "code",
      "source": [
        "!pip install wget\n",
        "\n",
        "import os\n",
        "import unicodedata\n",
        "import string\n",
        "import re\n",
        "\n",
        "import wget\n",
        "import zipfile\n",
        "import torch\n",
        "import torch.nn as nn\n",
        "from torch import optim\n",
        "import torch.nn.functional as F"
      ],
      "metadata": {
        "colab": {
          "base_uri": "https://localhost:8080/"
        },
        "id": "QD0MQVCkenfq",
        "outputId": "f1933240-cffc-4a0d-f7a0-1733fc44dc10"
      },
      "execution_count": 44,
      "outputs": [
        {
          "output_type": "stream",
          "name": "stdout",
          "text": [
            "Looking in indexes: https://pypi.org/simple, https://us-python.pkg.dev/colab-wheels/public/simple/\n",
            "Requirement already satisfied: wget in /usr/local/lib/python3.7/dist-packages (3.2)\n"
          ]
        }
      ]
    },
    {
      "cell_type": "markdown",
      "source": [
        "# Global Variables"
      ],
      "metadata": {
        "id": "2HVOint1f5ip"
      }
    },
    {
      "cell_type": "code",
      "source": [
        "device = torch.device(\"cuda\" if torch.cuda.is_available() else \"cpu\")\n",
        "HIDDEN_SIZE = 256\n",
        "SOS_TOKEN = 0\n",
        "EOS_TOKEN = 1\n",
        "MAX_LENGTH = 10"
      ],
      "metadata": {
        "id": "MmWxJpQ6f5nB"
      },
      "execution_count": 45,
      "outputs": []
    },
    {
      "cell_type": "markdown",
      "source": [
        "# Download Data and Inspect Data\n",
        "\n",
        "We are using the dataset provided by PyTorch. It is a simple text file containing french-english translation per f"
      ],
      "metadata": {
        "id": "ltRcI-zsej3R"
      }
    },
    {
      "cell_type": "code",
      "source": [
        "# Download the dataset from pytorch tutorial\n",
        "URL = \"https://download.pytorch.org/tutorial/data.zip\"\n",
        "zip_filepath = \"translation_exercice.zip\"\n",
        "if not os.path.exists(zip_filepath):\n",
        "    wget.download(URL, zip_filepath)\n",
        "\n",
        "# Unzip\n",
        "with zipfile.ZipFile(zip_filepath, 'r') as zip_obj:\n",
        "    zip_obj.extractall()\n",
        "\n",
        "# Translation dataset summary\n",
        "DATA_TXT_FILE = os.path.join(\"data\", \"eng-fra.txt\")\n",
        "with open(DATA_TXT_FILE, \"r\") as f:\n",
        "    lines = f.readlines()\n",
        "    print(f\"There are {len(lines)} examples\")\n",
        "    for i in range(5):\n",
        "        print(f\"Example {i} : {lines[i].strip()}\")"
      ],
      "metadata": {
        "colab": {
          "base_uri": "https://localhost:8080/"
        },
        "id": "b_ocFGu-ej8q",
        "outputId": "91245471-ce42-424b-9506-c9438e84c8e5"
      },
      "execution_count": 46,
      "outputs": [
        {
          "output_type": "stream",
          "name": "stdout",
          "text": [
            "There are 135842 examples\n",
            "Example 0 : Go.\tVa !\n",
            "Example 1 : Run!\tCours !\n",
            "Example 2 : Run!\tCourez !\n",
            "Example 3 : Wow!\tÇa alors !\n",
            "Example 4 : Fire!\tAu feu !\n"
          ]
        }
      ]
    },
    {
      "cell_type": "markdown",
      "source": [
        "# Text Encoding And Vocabulary\n",
        "\n",
        "Neural networks can only process numbers and cannot process words or characters. For each word in our vocabulary, we will use a simple **one-hot vector** encoding. As explained in the PyTorch tutorial, there are so many words, and we will cheat by removing some of them so that we only use a few thousand words.\n",
        "\n",
        "Our vocabulary includes two special encoding:\n",
        "- **SOS** : Start Of Sentence\n",
        "- **EOS** : End Of Sentence"
      ],
      "metadata": {
        "id": "jZK2Y9G2sKzP"
      }
    },
    {
      "cell_type": "markdown",
      "source": [
        "![image.png](data:image/png;base64,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)"
      ],
      "metadata": {
        "id": "EMJTE9iatJfZ"
      }
    },
    {
      "cell_type": "markdown",
      "source": [
        "We are using a helper class called *Vocabulary* to keep track of the words and their mapping."
      ],
      "metadata": {
        "id": "nA1hpccc3WI_"
      }
    },
    {
      "cell_type": "code",
      "source": [
        "class Vocabulary:\n",
        "    def __init__(self, name):\n",
        "        self.name = name\n",
        "        self.word2index = {}\n",
        "        self.word2count = {}\n",
        "        self.index2word = {0: \"SOS\", 1: \"EOS\"}\n",
        "        self.num_words = 2  # Count SOS and EOS\n",
        "\n",
        "    def add_sentence(self, sentence):\n",
        "        for word in sentence.split(' '):\n",
        "            self.add_word(word)\n",
        "\n",
        "    def add_word(self, word):\n",
        "        if word not in self.word2index:\n",
        "            self.word2index[word] = self.num_words\n",
        "            self.word2count[word] = 1\n",
        "            self.index2word[self.num_words] = word\n",
        "            self.num_words += 1\n",
        "        else:\n",
        "            self.word2count[word] += 1\n"
      ],
      "metadata": {
        "id": "FTS9shEasK5P"
      },
      "execution_count": 47,
      "outputs": []
    },
    {
      "cell_type": "markdown",
      "source": [
        "# Text Normalization and Word filtering Utilities (Cleanup)\n",
        "\n",
        "The **text normalization** consists in standardizing the text by: \n",
        "- converting unicode => ASCII\n",
        "- text to lowercase\n",
        "- triming punctuation\n",
        "\n",
        "\n"
      ],
      "metadata": {
        "id": "QuVS-cvv3-CG"
      }
    },
    {
      "cell_type": "code",
      "source": [
        "# https://stackoverflow.com/a/518232/2809427\n",
        "def unicodeToAscii(s):\n",
        "    return ''.join(\n",
        "        c for c in unicodedata.normalize('NFD', s)\n",
        "        if unicodedata.category(c) != 'Mn'\n",
        "    )\n",
        "\n",
        "def normalizeString(s):\n",
        "    s = unicodeToAscii(s.lower().strip())\n",
        "    s = re.sub(r\"([.!?])\", r\" \\1\", s)\n",
        "    s = re.sub(r\"[^a-zA-Z.!?]+\", r\" \", s)\n",
        "    return s\n"
      ],
      "metadata": {
        "id": "nrxZ8af83_Rl"
      },
      "execution_count": 48,
      "outputs": []
    },
    {
      "cell_type": "markdown",
      "source": [
        "The word filtering consists in simplying the training process filtering : \n",
        "- long sentence > MAX_LENGTH\n",
        "- sentence starting with {'i am', 'i am', ... 'they re'}"
      ],
      "metadata": {
        "id": "sO4bL5qzGEvU"
      }
    },
    {
      "cell_type": "code",
      "source": [
        "eng_prefixes = (\n",
        "    \"i am \", \"i m \",\n",
        "    \"he is\", \"he s \",\n",
        "    \"she is\", \"she s \",\n",
        "    \"you are\", \"you re \",\n",
        "    \"we are\", \"we re \",\n",
        "    \"they are\", \"they re \"\n",
        ")\n",
        "\n",
        "def filterPair(p):\n",
        "    return len(p[0].split(' ')) < MAX_LENGTH and \\\n",
        "        len(p[1].split(' ')) < MAX_LENGTH and \\\n",
        "        p[1].startswith(eng_prefixes)\n",
        "\n",
        "def filterPairs(pairs):\n",
        "    return [pair for pair in pairs if filterPair(pair)]"
      ],
      "metadata": {
        "id": "BFcbV3lpHO2j"
      },
      "execution_count": 49,
      "outputs": []
    },
    {
      "cell_type": "markdown",
      "source": [
        "# Build Vocabulary\n",
        "\n",
        "Create the Vocabulary object from the translation dataset file. We will use the text normalization utilities to cleanup the text."
      ],
      "metadata": {
        "id": "SDnXSN75CdVe"
      }
    },
    {
      "cell_type": "code",
      "source": [
        "def prepare_vocabulary(data_txt_filepath):\n",
        "    # open file\n",
        "    with open(data_txt_filepath, 'r', encoding='utf-8') as f:\n",
        "        lines = f.read().strip().split('\\n')\n",
        "    \n",
        "    # split lines into pairs and normalize\n",
        "    pairs = [[normalizeString(s) for s in l.split('\\t')] for l in lines]\n",
        "    \n",
        "    # Create english and french vocabulary\n",
        "    input_voc = Vocabulary(\"English\")\n",
        "    output_voc = Vocabulary(\"French\")\n",
        "\n",
        "    # TODO - add word in the \n",
        "\n",
        "\n",
        "prepare_vocabulary(DATA_TXT_FILE)"
      ],
      "metadata": {
        "id": "rJe1iS1FCdaa"
      },
      "execution_count": 50,
      "outputs": []
    },
    {
      "cell_type": "markdown",
      "source": [
        "# PyTorch dataset"
      ],
      "metadata": {
        "id": "GxwteybEpuoa"
      }
    },
    {
      "cell_type": "code",
      "source": [
        "# TODO"
      ],
      "metadata": {
        "id": "y6ICUUGRpuui"
      },
      "execution_count": null,
      "outputs": []
    },
    {
      "cell_type": "markdown",
      "source": [
        "# Encoder"
      ],
      "metadata": {
        "id": "D6OWbnZhedn6"
      }
    },
    {
      "cell_type": "code",
      "source": [
        "# TODO\n",
        "class EncoderRNN(nn.Module):\n",
        "    def __init__(self):\n",
        "        pass"
      ],
      "metadata": {
        "id": "OhEyX8rOee1y"
      },
      "execution_count": null,
      "outputs": []
    },
    {
      "cell_type": "markdown",
      "source": [
        "# Decoder"
      ],
      "metadata": {
        "id": "pXDt3axfefhq"
      }
    },
    {
      "cell_type": "code",
      "source": [
        "# TODO\n",
        "class DecoderRNN(nn.Module):\n",
        "    def __init__(self):\n",
        "        pass\n"
      ],
      "metadata": {
        "id": "f1KBZNoIeifi"
      },
      "execution_count": null,
      "outputs": []
    },
    {
      "cell_type": "markdown",
      "source": [
        "# Attention Mechanism"
      ],
      "metadata": {
        "id": "GA5kxRdBfQUy"
      }
    },
    {
      "cell_type": "code",
      "source": [
        "# TODO"
      ],
      "metadata": {
        "id": "hoiDMwzVfQZx"
      },
      "execution_count": null,
      "outputs": []
    },
    {
      "cell_type": "markdown",
      "source": [
        "# Training"
      ],
      "metadata": {
        "id": "b-e4wKBPfgpJ"
      }
    },
    {
      "cell_type": "code",
      "source": [
        "# TODO"
      ],
      "metadata": {
        "id": "_uGl_SHufgwh"
      },
      "execution_count": null,
      "outputs": []
    },
    {
      "cell_type": "markdown",
      "source": [
        "# Evaluate"
      ],
      "metadata": {
        "id": "dmPCVejUfTu5"
      }
    },
    {
      "cell_type": "code",
      "source": [
        "# TODO"
      ],
      "metadata": {
        "id": "VnFdOJ97fT1R"
      },
      "execution_count": null,
      "outputs": []
    },
    {
      "cell_type": "markdown",
      "source": [
        "# Further Reading"
      ],
      "metadata": {
        "id": "DkoYPoHQfXSh"
      }
    },
    {
      "cell_type": "code",
      "source": [
        "- https://d2l.ai/chapter_recurrent-modern/seq2seq.html\n",
        "- https://pytorch.org/tutorials/intermediate/seq2seq_translation_tutorial.html"
      ],
      "metadata": {
        "id": "rS92qhVWfXLZ"
      },
      "execution_count": null,
      "outputs": []
    }
  ]
}